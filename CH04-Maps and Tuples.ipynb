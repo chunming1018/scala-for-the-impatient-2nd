{
 "cells": [
  {
   "cell_type": "markdown",
   "metadata": {},
   "source": [
    "## Highlight\n",
    "\n",
    "- Scala has a pleasant syntax for creating, querying and traversing maps.\n",
    "- You need to choose between mutable and immutable maps.\n",
    "- By default, you get a hash map, but you can also get a tree map.\n",
    "- You can easily convert between Scala and Java maps.\n",
    "- Tuples are useful for aggregating values."
   ]
  },
  {
   "cell_type": "markdown",
   "metadata": {},
   "source": [
    "## Construct a Map"
   ]
  },
  {
   "cell_type": "code",
   "execution_count": 2,
   "metadata": {},
   "outputs": [
    {
     "data": {
      "application/vnd.jupyter.widget-view+json": {
       "model_id": "b4e0c945-3469-4369-968a-2557619b31b9",
       "version_major": 2,
       "version_minor": 0
      },
      "method": "display_data"
     },
     "metadata": {},
     "output_type": "display_data"
    }
   ],
   "source": [
    "val scores = Map(\"Alice\" -> 10, \"Bob\" -> 3, \"Cindy\" -> 8)"
   ]
  },
  {
   "cell_type": "code",
   "execution_count": 3,
   "metadata": {},
   "outputs": [
    {
     "data": {
      "application/vnd.jupyter.widget-view+json": {
       "model_id": "46da6d65-19e9-4051-a0ef-b1c5616dfcaa",
       "version_major": 2,
       "version_minor": 0
      },
      "method": "display_data"
     },
     "metadata": {},
     "output_type": "display_data"
    }
   ],
   "source": [
    "val scores = Map((\"Alice\",10), (\"Bob\",3), (\"Cindy\",8))"
   ]
  },
  {
   "cell_type": "markdown",
   "metadata": {},
   "source": [
    "## Access Map Values"
   ]
  },
  {
   "cell_type": "code",
   "execution_count": 5,
   "metadata": {},
   "outputs": [
    {
     "data": {
      "text/plain": [
       "3"
      ]
     },
     "execution_count": 5,
     "metadata": {},
     "output_type": "execute_result"
    }
   ],
   "source": [
    "val bobScore = scores(\"Bob\")"
   ]
  },
  {
   "cell_type": "code",
   "execution_count": 7,
   "metadata": {},
   "outputs": [
    {
     "data": {
      "text/plain": [
       "3"
      ]
     },
     "execution_count": 7,
     "metadata": {},
     "output_type": "execute_result"
    }
   ],
   "source": [
    "val bobScore = scores.getOrElse(\"Bob\", 0)"
   ]
  },
  {
   "cell_type": "markdown",
   "metadata": {},
   "source": [
    "## Updating Map Values"
   ]
  },
  {
   "cell_type": "code",
   "execution_count": 17,
   "metadata": {},
   "outputs": [
    {
     "data": {
      "text/plain": [
       "Map(Bob -> 12, Fred -> 15, Alice -> 10, Cindy -> 8)"
      ]
     },
     "execution_count": 17,
     "metadata": {},
     "output_type": "execute_result"
    }
   ],
   "source": [
    "val scores = scala.collection.mutable.Map((\"Alice\",10), (\"Bob\",3), (\"Cindy\",8))\n",
    "scores(\"Bob\") = 10\n",
    "scores += (\"Bob\" -> 12, \"Fred\" -> 15)\n",
    "scores"
   ]
  },
  {
   "cell_type": "code",
   "execution_count": 18,
   "metadata": {},
   "outputs": [
    {
     "ename": "<console>",
     "evalue": "91",
     "output_type": "error",
     "text": "<console>:91: error: value += is not a member of scala.collection.immutable.Map[String,Int]\r\n  Expression does not convert to assignment because receiver is not assignable.\r\n       scores += (\"Bob\" -> 12, \"Fred\" -> 15)\r\n              ^\n",
     "traceback": [
      "\u001b[1;31m<console>:91: error: value += is not a member of scala.collection.immutable.Map[String,Int]\u001b[0;0m",
      "\u001b[1;31m  Expression does not convert to assignment because receiver is not assignable.\u001b[0;0m",
      "\u001b[1;31m       scores += (\"Bob\" -> 12, \"Fred\" -> 15)\u001b[0;0m",
      "\u001b[1;31m              ^\u001b[0;0m"
     ]
    }
   ],
   "source": [
    "val scores = Map((\"Alice\",10), (\"Bob\",3), (\"Cindy\",8))\n",
    "scores += (\"Bob\" -> 12, \"Fred\" -> 15)\n",
    "scores"
   ]
  },
  {
   "cell_type": "markdown",
   "metadata": {},
   "source": [
    "## Iterating over Maps"
   ]
  },
  {
   "cell_type": "code",
   "execution_count": 26,
   "metadata": {},
   "outputs": [
    {
     "data": {
      "application/vnd.jupyter.widget-view+json": {
       "model_id": "348a0cf9-5b71-43ac-96a0-2b35168a1bde",
       "version_major": 2,
       "version_minor": 0
      },
      "method": "display_data"
     },
     "metadata": {},
     "output_type": "display_data"
    }
   ],
   "source": [
    "val scores = Map((\"Alice\",10), (\"Bob\",3), (\"Cindy\",8))\n",
    "for ((k, v) <- scores) yield (v, k)"
   ]
  },
  {
   "cell_type": "markdown",
   "metadata": {},
   "source": [
    "## Tuples\n",
    "- A tuple value is formed by enclosing individual values in parentheses."
   ]
  },
  {
   "cell_type": "code",
   "execution_count": 27,
   "metadata": {},
   "outputs": [
    {
     "data": {
      "text/plain": [
       "(1,3.14,Fred)"
      ]
     },
     "execution_count": 27,
     "metadata": {},
     "output_type": "execute_result"
    }
   ],
   "source": [
    "val a = (1, 3.14, \"Fred\")"
   ]
  },
  {
   "cell_type": "code",
   "execution_count": 29,
   "metadata": {},
   "outputs": [
    {
     "data": {
      "text/plain": [
       "3.14"
      ]
     },
     "execution_count": 29,
     "metadata": {},
     "output_type": "execute_result"
    }
   ],
   "source": [
    "a._2"
   ]
  },
  {
   "cell_type": "markdown",
   "metadata": {},
   "source": [
    "## Zipping"
   ]
  },
  {
   "cell_type": "code",
   "execution_count": 31,
   "metadata": {},
   "outputs": [
    {
     "data": {
      "text/plain": [
       "[(<,2), (-,10), (>,2)]"
      ]
     },
     "execution_count": 31,
     "metadata": {},
     "output_type": "execute_result"
    }
   ],
   "source": [
    "val symbols = Array(\"<\", \"-\", \">\")\n",
    "val counts = Array(2, 10, 2)\n",
    "val pairs = symbols.zip(counts)"
   ]
  }
 ],
 "metadata": {
  "kernelspec": {
   "display_name": "Scala",
   "language": "scala",
   "name": "scala"
  },
  "language_info": {
   "codemirror_mode": "text/x-scala",
   "file_extension": ".scala",
   "mimetype": "",
   "name": "Scala",
   "nbconverter_exporter": "",
   "version": "2.11.12"
  }
 },
 "nbformat": 4,
 "nbformat_minor": 2
}
