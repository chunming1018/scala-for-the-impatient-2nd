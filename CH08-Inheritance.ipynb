{
 "cells": [
  {
   "cell_type": "markdown",
   "metadata": {},
   "source": [
    "## Highlight\n",
    "\n",
    "- The ```extends``` and ```final``` keywords are as in Java.\n",
    "- You must use ```override``` when you override a method.\n",
    "- Only the primary constructor can call the primary superclass constructor.\n",
    "- You can override fields."
   ]
  },
  {
   "cell_type": "markdown",
   "metadata": {},
   "source": [
    "## Extending a Class"
   ]
  },
  {
   "cell_type": "code",
   "execution_count": 2,
   "metadata": {},
   "outputs": [
    {
     "data": {
      "text/plain": [
       "defined class Person\r\n",
       "defined class Employee\n"
      ]
     },
     "execution_count": 2,
     "metadata": {},
     "output_type": "execute_result"
    }
   ],
   "source": [
    "class Person {\n",
    "   var age = 0\n",
    "}\n",
    "\n",
    "class Employee extends Person {\n",
    "    var salary = 0.0\n",
    "}"
   ]
  },
  {
   "cell_type": "markdown",
   "metadata": {},
   "source": [
    "## Overriding Methods"
   ]
  },
  {
   "cell_type": "code",
   "execution_count": 8,
   "metadata": {},
   "outputs": [
    {
     "data": {
      "text/plain": [
       "defined class Person\r\n",
       "defined class Employee\n"
      ]
     },
     "execution_count": 8,
     "metadata": {},
     "output_type": "execute_result"
    }
   ],
   "source": [
    "class Person {\n",
    "    var age = 0\n",
    "    var name = \"Hello\"\n",
    "    override def toString = s\"${getClass.getName}[name=$name]\"\n",
    "}\n",
    "\n",
    "class Employee extends Person {\n",
    "    var salary = 0.0\n",
    "    override def toString = s\"${super.toString}[salary=$salary]\"\n",
    "}"
   ]
  },
  {
   "cell_type": "code",
   "execution_count": 9,
   "metadata": {},
   "outputs": [
    {
     "data": {
      "text/plain": [
       "$line31.$read$$iw$$iw$Employee[name=Hello][salary=0.0]"
      ]
     },
     "execution_count": 9,
     "metadata": {},
     "output_type": "execute_result"
    }
   ],
   "source": [
    "val myPerson = new Employee"
   ]
  },
  {
   "cell_type": "markdown",
   "metadata": {},
   "source": [
    "## Type checks and Casts"
   ]
  },
  {
   "cell_type": "code",
   "execution_count": 11,
   "metadata": {},
   "outputs": [
    {
     "data": {
      "text/plain": [
       "$line31.$read$$iw$$iw$Employee[name=Hello][salary=0.0]"
      ]
     },
     "execution_count": 11,
     "metadata": {},
     "output_type": "execute_result"
    }
   ],
   "source": [
    "if (myPerson.isInstanceOf[Employee]){\n",
    "    val s = myPerson.asInstanceOf[Employee]\n",
    "    s\n",
    "}\n"
   ]
  },
  {
   "cell_type": "code",
   "execution_count": 13,
   "metadata": {},
   "outputs": [
    {
     "data": {
      "text/plain": [
       "$line31.$read$$iw$$iw$Employee[name=Hello][salary=0.0]"
      ]
     },
     "execution_count": 13,
     "metadata": {},
     "output_type": "execute_result"
    }
   ],
   "source": [
    "if (myPerson.getClass == classOf[Employee]){\n",
    "    val s = myPerson.asInstanceOf[Employee]\n",
    "    s\n",
    "}\n",
    "    "
   ]
  },
  {
   "cell_type": "markdown",
   "metadata": {},
   "source": [
    "## Protected Fields and Methods\n",
    "- a ```protected``` member is _not visible_ throughtout the package to which the class belongs. "
   ]
  },
  {
   "cell_type": "markdown",
   "metadata": {},
   "source": [
    "## Override Fieds"
   ]
  },
  {
   "cell_type": "code",
   "execution_count": null,
   "metadata": {},
   "outputs": [],
   "source": [
    "class Person {\n",
    "    var age = 0\n",
    "    var name = \"Hello\"\n",
    "    override def toString = s\"${getClass.getName}[name=$name]\"\n",
    "}\n",
    "\n",
    "class Employee extends Person {\n",
    "    var salary = 0.0\n",
    "    override def toString = s\"${super.toString}[salary=$salary]\"\n",
    "}"
   ]
  },
  {
   "cell_type": "markdown",
   "metadata": {},
   "source": [
    "- A ```def``` can only override another ```def```\n",
    "- A ```val``` can only override another ```val``` or a parameterless ```def```\n",
    "- A ```var``` can only override an abstract ```var```"
   ]
  },
  {
   "cell_type": "code",
   "execution_count": null,
   "metadata": {},
   "outputs": [],
   "source": []
  }
 ],
 "metadata": {
  "kernelspec": {
   "display_name": "Scala",
   "language": "scala",
   "name": "scala"
  },
  "language_info": {
   "codemirror_mode": "text/x-scala",
   "file_extension": ".scala",
   "mimetype": "",
   "name": "Scala",
   "nbconverter_exporter": "",
   "version": "2.11.12"
  }
 },
 "nbformat": 4,
 "nbformat_minor": 2
}
