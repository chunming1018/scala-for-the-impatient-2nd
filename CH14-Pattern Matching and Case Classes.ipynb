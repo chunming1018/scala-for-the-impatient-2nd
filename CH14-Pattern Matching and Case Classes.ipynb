{
 "cells": [
  {
   "cell_type": "code",
   "execution_count": null,
   "metadata": {},
   "outputs": [],
   "source": []
  },
  {
   "cell_type": "markdown",
   "metadata": {},
   "source": [
    "## Case Classes\n",
    "- Case classes are a special kind of classes that are optimized for use in pattern matching. \n",
    "\n",
    "When you declare a case class, several things happen automatically.\n",
    "- Each of the constructor parameters becomes a ```val``` unless it is explicitly declared as a ```var``` (which is not recommended)\n",
    "- An ```apply``` method is provided for the companion object that lets you construct objects without ```new```, such as ```Dollar(29.95)``` or ```Currency(29.95, \"EUR\")```.\n",
    "- An ```unapply``` method is provided that makes pattern matching work.\n",
    "- Methods ```toString, equals, hashCode, and copy``` are generated unless they are explicity provided. "
   ]
  },
  {
   "cell_type": "code",
   "execution_count": null,
   "metadata": {},
   "outputs": [],
   "source": []
  }
 ],
 "metadata": {
  "kernelspec": {
   "display_name": "Scala",
   "language": "scala",
   "name": "scala"
  },
  "language_info": {
   "codemirror_mode": "text/x-scala",
   "file_extension": ".scala",
   "mimetype": "",
   "name": "Scala",
   "nbconverter_exporter": "",
   "version": "2.11.12"
  }
 },
 "nbformat": 4,
 "nbformat_minor": 2
}
