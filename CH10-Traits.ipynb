{
 "cells": [
  {
   "cell_type": "markdown",
   "metadata": {},
   "source": [
    "## Highlight\n",
    "\n",
    "- A class can implement any number of traits.\n",
    "- Traits can require implementing classes to have certain fields, methods, or superclasses.\n",
    "- Unlike Java interfaces, a Scala trait can provide implementations of methods and fields. \n",
    "- When you layer multiple traits, the order matters -- the trait whose methods execute _first_ goes to the back. "
   ]
  }
 ],
 "metadata": {
  "kernelspec": {
   "display_name": "Scala",
   "language": "scala",
   "name": "scala"
  },
  "language_info": {
   "codemirror_mode": "text/x-scala",
   "file_extension": ".scala",
   "mimetype": "",
   "name": "Scala",
   "nbconverter_exporter": "",
   "version": "2.11.12"
  }
 },
 "nbformat": 4,
 "nbformat_minor": 2
}
