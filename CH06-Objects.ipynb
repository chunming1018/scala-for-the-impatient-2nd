{
 "cells": [
  {
   "cell_type": "markdown",
   "metadata": {},
   "source": [
    "## Highlight\n",
    "\n",
    "- Use objects for singletons and utility methods\n",
    "- A class can have a companion object with the same name\n",
    "- Objects can extend classes or traits\n",
    "- The ```apply``` method of an object is usually used for constructing new instances of the companion class.\n",
    "- To void the ```main``` method, use an object that extends the ```App``` trait.\n",
    "- You can implement enumerations by extending the ```Enumeration``` object"
   ]
  },
  {
   "cell_type": "markdown",
   "metadata": {},
   "source": [
    "## Companion Objects"
   ]
  },
  {
   "cell_type": "code",
   "execution_count": null,
   "metadata": {},
   "outputs": [],
   "source": [
    "class Account {\n",
    "    val id = Account.newUniqueNumber()\n",
    "    private var balance = 0.0\n",
    "    def deposit(amount: Double) {balance += amount}\n",
    "}\n",
    "\n",
    "object Accounts {\n",
    "    private var lastNumber = 0\n",
    "    def newUniqueNumber() = {\n",
    "        lastNumber += 1;\n",
    "        lastNumber\n",
    "    }\n",
    "}"
   ]
  },
  {
   "cell_type": "markdown",
   "metadata": {},
   "source": [
    "## Objects Extending a Class or Trait"
   ]
  },
  {
   "cell_type": "code",
   "execution_count": 3,
   "metadata": {},
   "outputs": [
    {
     "ename": "No serializer found for class $line36.$read$$iw$$iw$DoNothingAction$ and no properties discovered to create BeanSerializer (to avoid exception, disable SerializationFeature.FAIL_ON_EMPTY_BEANS) ) (through reference chain",
     "evalue": " java.util.ArrayList[0]->java.util.ArrayList[1])",
     "output_type": "error",
     "text": "No serializer found for class $line36.$read$$iw$$iw$DoNothingAction$ and no properties discovered to create BeanSerializer (to avoid exception, disable SerializationFeature.FAIL_ON_EMPTY_BEANS) ) (through reference chain: java.util.ArrayList[0]->java.util.ArrayList[1])",
     "traceback": [
      "\u001b[1;31mNo serializer found for class $line36.$read$$iw$$iw$DoNothingAction$ and no properties discovered to create BeanSerializer (to avoid exception, disable SerializationFeature.FAIL_ON_EMPTY_BEANS) ) (through reference chain: java.util.ArrayList[0]->java.util.ArrayList[1])\u001b[0;0m"
     ]
    }
   ],
   "source": [
    "abstract class UndoableAction(val description: String) {\n",
    "    def undo(): Unit\n",
    "    def redo(): Unit\n",
    "}\n",
    "\n",
    "object DoNothingAction extends UndoableAction(\"Do nothing\") {\n",
    "    override def undo(){}\n",
    "    override def redo(){}\n",
    "}\n",
    "\n",
    "val actions = Map(\"open\" -> DoNothingAction, \"save\" -> DoNothingAction)"
   ]
  },
  {
   "cell_type": "markdown",
   "metadata": {},
   "source": [
    "## The ```apply``` Method"
   ]
  },
  {
   "cell_type": "markdown",
   "metadata": {},
   "source": [
    "## Application Objects"
   ]
  },
  {
   "cell_type": "code",
   "execution_count": 4,
   "metadata": {},
   "outputs": [
    {
     "data": {
      "text/plain": [
       "$line37.$read$$iw$$iw$$iw$$iw$$iw$$iw$$iw$$iw$$iw$$iw$$iw$$iw$$iw$$iw$$iw$$iw$$iw$$iw$$iw$$iw$Hello$@7dd40d0"
      ]
     },
     "execution_count": 4,
     "metadata": {},
     "output_type": "execute_result"
    }
   ],
   "source": [
    "object Hello{\n",
    "    def main(args: Array[String]){\n",
    "        println(\"Hello, World\")\n",
    "    }\n",
    "}"
   ]
  },
  {
   "cell_type": "code",
   "execution_count": 11,
   "metadata": {},
   "outputs": [
    {
     "name": "stdout",
     "output_type": "stream",
     "text": [
      "Hello, World\n"
     ]
    },
    {
     "data": {
      "text/plain": [
       "null"
      ]
     },
     "execution_count": 11,
     "metadata": {},
     "output_type": "execute_result"
    }
   ],
   "source": [
    "Hello.main(Array())"
   ]
  },
  {
   "cell_type": "code",
   "execution_count": 9,
   "metadata": {},
   "outputs": [
    {
     "data": {
      "text/plain": [
       "$line45.$read$$iw$$iw$$iw$$iw$$iw$$iw$$iw$$iw$$iw$$iw$$iw$$iw$$iw$$iw$$iw$$iw$$iw$$iw$$iw$$iw$Hello$@2ce4c0b0"
      ]
     },
     "execution_count": 9,
     "metadata": {},
     "output_type": "execute_result"
    }
   ],
   "source": [
    "object Hello extends App {\n",
    "    println(\"Hello, World\")\n",
    "}"
   ]
  },
  {
   "cell_type": "code",
   "execution_count": 12,
   "metadata": {},
   "outputs": [
    {
     "name": "stdout",
     "output_type": "stream",
     "text": [
      "Hello, World\n"
     ]
    },
    {
     "data": {
      "text/plain": [
       "null"
      ]
     },
     "execution_count": 12,
     "metadata": {},
     "output_type": "execute_result"
    }
   ],
   "source": [
    "Hello.main(Array())"
   ]
  },
  {
   "cell_type": "markdown",
   "metadata": {},
   "source": [
    "## Enumerations"
   ]
  },
  {
   "cell_type": "code",
   "execution_count": null,
   "metadata": {},
   "outputs": [],
   "source": [
    "object TrafficLightColor extends Enumeration {\n",
    "    val Red, Yellow, Green = Value\n",
    "}"
   ]
  }
 ],
 "metadata": {
  "kernelspec": {
   "display_name": "Scala",
   "language": "scala",
   "name": "scala"
  },
  "language_info": {
   "codemirror_mode": "text/x-scala",
   "file_extension": ".scala",
   "mimetype": "",
   "name": "Scala",
   "nbconverter_exporter": "",
   "version": "2.11.12"
  }
 },
 "nbformat": 4,
 "nbformat_minor": 2
}
