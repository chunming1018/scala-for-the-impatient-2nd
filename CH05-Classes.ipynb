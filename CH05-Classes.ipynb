{
 "cells": [
  {
   "cell_type": "markdown",
   "metadata": {},
   "source": [
    "## Highlight\n",
    "\n",
    "- Fields in classes automatically come with getters and setters.\n",
    "- You can replace a field with a custom getter/setter without changing the client of a class -- that is the \"uniform access principle.\"\n",
    "- Use the ```@BeanProperty``` annotation to generate the JavaBeans ```getXxx/setXxx``` methods.\n",
    "- Every class has a primary constructor that is \"interwoven\" with the class definition. Its parameters turn into the fields of the class. the primary constructor executes all statements in the body of the class.\n",
    "- Auxiliary constructors are optional. They are called ```this```.\n"
   ]
  },
  {
   "cell_type": "markdown",
   "metadata": {},
   "source": [
    "## Simple Classes and Parameterless Methods"
   ]
  },
  {
   "cell_type": "code",
   "execution_count": 2,
   "metadata": {},
   "outputs": [
    {
     "data": {
      "text/plain": [
       "defined class Counter\n"
      ]
     },
     "execution_count": 2,
     "metadata": {},
     "output_type": "execute_result"
    }
   ],
   "source": [
    "class Counter {\n",
    "    private var value = 0\n",
    "    def increment() { value += 1 }\n",
    "    def current() = value\n",
    "}"
   ]
  },
  {
   "cell_type": "code",
   "execution_count": 3,
   "metadata": {},
   "outputs": [
    {
     "name": "stdout",
     "output_type": "stream",
     "text": [
      "1\n"
     ]
    },
    {
     "data": {
      "text/plain": [
       "null"
      ]
     },
     "execution_count": 3,
     "metadata": {},
     "output_type": "execute_result"
    }
   ],
   "source": [
    "val myCounter = new Counter\n",
    "myCounter.increment()\n",
    "println(myCounter.current)"
   ]
  },
  {
   "cell_type": "markdown",
   "metadata": {},
   "source": [
    "__TIPS:__ It is considered good style to use ```()``` for a mutator method (a method that changes the object state), and to drop the ```()``` for an _accessor_ method (a method that does not change the object state)."
   ]
  },
  {
   "cell_type": "markdown",
   "metadata": {},
   "source": [
    "## Properties with Getters and Setters"
   ]
  },
  {
   "cell_type": "code",
   "execution_count": 10,
   "metadata": {},
   "outputs": [
    {
     "data": {
      "text/plain": [
       "defined class Person\n"
      ]
     },
     "execution_count": 10,
     "metadata": {},
     "output_type": "execute_result"
    }
   ],
   "source": [
    "class Person {\n",
    "   var age = 0\n",
    "}"
   ]
  },
  {
   "cell_type": "code",
   "execution_count": 11,
   "metadata": {},
   "outputs": [
    {
     "data": {
      "text/plain": [
       "0"
      ]
     },
     "execution_count": 11,
     "metadata": {},
     "output_type": "execute_result"
    }
   ],
   "source": [
    "val myPerson =  new Person\n",
    "myPerson.age"
   ]
  },
  {
   "cell_type": "code",
   "execution_count": 12,
   "metadata": {},
   "outputs": [
    {
     "data": {
      "text/plain": [
       "defined class Person\n"
      ]
     },
     "execution_count": 12,
     "metadata": {},
     "output_type": "execute_result"
    }
   ],
   "source": [
    "class Person {\n",
    "   private var privateAge = 0\n",
    "   def age = privateAge \n",
    "   def age_=(newValue: Int) {\n",
    "       if (newValue > privateAge) privateAge = newValue\n",
    "   } \n",
    "}"
   ]
  },
  {
   "cell_type": "code",
   "execution_count": 13,
   "metadata": {},
   "outputs": [
    {
     "data": {
      "text/plain": [
       "import scala.beans.BeanProperty\r\n",
       "defined class Person\n"
      ]
     },
     "execution_count": 13,
     "metadata": {},
     "output_type": "execute_result"
    }
   ],
   "source": [
    "import scala.beans.BeanProperty\n",
    "\n",
    "class Person {\n",
    "    @BeanProperty var name: String = _\n",
    "}"
   ]
  },
  {
   "cell_type": "code",
   "execution_count": 14,
   "metadata": {},
   "outputs": [
    {
     "data": {
      "text/plain": [
       "Hello"
      ]
     },
     "execution_count": 14,
     "metadata": {},
     "output_type": "execute_result"
    }
   ],
   "source": [
    "val myPerson = new Person\n",
    "myPerson.name = \"Hello\""
   ]
  },
  {
   "cell_type": "markdown",
   "metadata": {},
   "source": [
    "## Auxiliary Constructors"
   ]
  },
  {
   "cell_type": "code",
   "execution_count": 20,
   "metadata": {},
   "outputs": [
    {
     "data": {
      "text/plain": [
       "The person Fred has age 42."
      ]
     },
     "execution_count": 20,
     "metadata": {},
     "output_type": "execute_result"
    }
   ],
   "source": [
    "class Person {\n",
    "    private var name = \"\"\n",
    "    private var age = 0\n",
    "    \n",
    "    def this(name: String) {\n",
    "        this()\n",
    "        this.name = name\n",
    "    }\n",
    "    \n",
    "    def this(name: String, age: Int) {\n",
    "        this(name)\n",
    "        this.age = age\n",
    "    }\n",
    "    \n",
    "    override def toString = s\"The person ${name} has age $age.\"\n",
    "    \n",
    "}\n",
    "\n",
    "val p1 = new Person\n",
    "val p2 = new Person(\"Fred\")\n",
    "val p3 = new Person(\"Fred\", 42)"
   ]
  },
  {
   "cell_type": "markdown",
   "metadata": {},
   "source": [
    "## Nested Classes"
   ]
  },
  {
   "cell_type": "code",
   "execution_count": 21,
   "metadata": {},
   "outputs": [
    {
     "data": {
      "text/plain": [
       "import scala.collection.mutable.ArrayBuffer\r\n",
       "defined class Network\n"
      ]
     },
     "execution_count": 21,
     "metadata": {},
     "output_type": "execute_result"
    }
   ],
   "source": [
    "import scala.collection.mutable.ArrayBuffer\n",
    "class Network {\n",
    "    class Member(val name: String) {\n",
    "        val contacts = new ArrayBuffer[Member]\n",
    "    }\n",
    "    \n",
    "    private val member = new ArrayBuffer[Member]\n",
    "    \n",
    "    def join(name: String) = {\n",
    "        val m = new Member(name)\n",
    "        member += m\n",
    "        m\n",
    "    }\n",
    "}"
   ]
  },
  {
   "cell_type": "code",
   "execution_count": 23,
   "metadata": {},
   "outputs": [
    {
     "ename": "<console>",
     "evalue": "99",
     "output_type": "error",
     "text": "<console>:99: error: type mismatch;\r\n found   : myFace.Member\r\n required: chatter.Member\r\n       fred.contacts += barney\r\n                        ^\n",
     "traceback": [
      "\u001b[1;31m<console>:99: error: type mismatch;\u001b[0;0m",
      "\u001b[1;31m found   : myFace.Member\u001b[0;0m",
      "\u001b[1;31m required: chatter.Member\u001b[0;0m",
      "\u001b[1;31m       fred.contacts += barney\u001b[0;0m",
      "\u001b[1;31m                        ^\u001b[0;0m"
     ]
    }
   ],
   "source": [
    "val chatter = new Network\n",
    "val myFace = new Network\n",
    "val fred = chatter.join(\"Fred\")\n",
    "val wilma = chatter.join(\"Wilma\")\n",
    "fred.contacts += wilma\n",
    "val barney = myFace.join(\"Barney\")\n",
    "fred.contacts += barney"
   ]
  }
 ],
 "metadata": {
  "kernelspec": {
   "display_name": "Scala",
   "language": "scala",
   "name": "scala"
  },
  "language_info": {
   "codemirror_mode": "text/x-scala",
   "file_extension": ".scala",
   "mimetype": "",
   "name": "Scala",
   "nbconverter_exporter": "",
   "version": "2.11.12"
  }
 },
 "nbformat": 4,
 "nbformat_minor": 2
}
