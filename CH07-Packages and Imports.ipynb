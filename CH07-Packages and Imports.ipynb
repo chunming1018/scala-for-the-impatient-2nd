{
 "cells": [
  {
   "cell_type": "markdown",
   "metadata": {},
   "source": [
    "## Highlight\n",
    "\n",
    "- Packages nest just like inner classes.\n",
    "- Package paths are _not_ absolute\n",
    "- A chain ```x.y.z``` in a package clause leaves the intermediate packages ```x``` and ```x.y``` invisible\n",
    "- Package statements without braces at the top of the file extend to the entire file.\n",
    "- A package object can hold functions and variables.\n",
    "- Import statements can import packages, classes, and objects.\n",
    "- Import statements can be anywhere.\n",
    "- Import statements can rename and hide members.\n",
    "- ```java.lang, scala, and Predef``` are always imported. "
   ]
  }
 ],
 "metadata": {
  "kernelspec": {
   "display_name": "Scala",
   "language": "scala",
   "name": "scala"
  },
  "language_info": {
   "codemirror_mode": "text/x-scala",
   "file_extension": ".scala",
   "mimetype": "",
   "name": "Scala",
   "nbconverter_exporter": "",
   "version": "2.11.12"
  }
 },
 "nbformat": 4,
 "nbformat_minor": 2
}
