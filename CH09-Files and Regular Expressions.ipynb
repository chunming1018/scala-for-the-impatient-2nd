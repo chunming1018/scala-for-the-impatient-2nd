{
 "cells": [
  {
   "cell_type": "markdown",
   "metadata": {},
   "source": [
    "## Highlight\n",
    "\n",
    "- ```Source.fromFile(...).getLines.toArray``` yields all lines of a file.\n",
    "- ```Source.fromFile(...).mkString``` yields the file contents as a string.\n",
    "- To convert a string into a number, use the ```toInt``` or ```toDouble``` method.\n",
    "- Use the Java ```PrintWriter``` to write text files.\n",
    "- \"_regex_\".r is a ```regex``` object\n",
    "- Use \"\"\"...\"\"\" if your regular expression contains backslashes or quotes. \n",
    "- If a regex pattern has groups, you can extract their contents using the syntax ```for (regex(```_var<sub>1</sub>, ..., var<sub>n</sub>_```) <- string)```"
   ]
  },
  {
   "cell_type": "markdown",
   "metadata": {},
   "source": [
    "## Read Lines"
   ]
  },
  {
   "cell_type": "code",
   "execution_count": 4,
   "metadata": {},
   "outputs": [
    {
     "name": "stdout",
     "output_type": "stream",
     "text": [
      "scala-for-the-impatient-2nd\n"
     ]
    },
    {
     "data": {
      "text/plain": [
       "null"
      ]
     },
     "execution_count": 4,
     "metadata": {},
     "output_type": "execute_result"
    }
   ],
   "source": [
    "import scala.io.Source\n",
    "val source = Source.fromFile(\"README.md\", \"UTF-8\")\n",
    "val lineIterator = source.getLines\n",
    "for (l <- lineIterator) \n",
    "    println(l)"
   ]
  },
  {
   "cell_type": "markdown",
   "metadata": {},
   "source": [
    "## Writing Text Files"
   ]
  },
  {
   "cell_type": "code",
   "execution_count": 8,
   "metadata": {},
   "outputs": [
    {
     "data": {
      "text/plain": [
       "null"
      ]
     },
     "execution_count": 8,
     "metadata": {},
     "output_type": "execute_result"
    }
   ],
   "source": [
    "// Writing Text Files\n",
    "import java.io.PrintWriter\n",
    "val out = new PrintWriter(\"data/numbers.txt\")\n",
    "for (i <- 1 to 100) out.println(i)\n",
    "out.close()"
   ]
  },
  {
   "cell_type": "markdown",
   "metadata": {},
   "source": [
    "## Visiting Directories"
   ]
  },
  {
   "cell_type": "code",
   "execution_count": 23,
   "metadata": {},
   "outputs": [
    {
     "name": "stdout",
     "output_type": "stream",
     "text": [
      "data\n",
      "data\\numbers.txt\n"
     ]
    },
    {
     "data": {
      "text/plain": [
       "null"
      ]
     },
     "execution_count": 23,
     "metadata": {},
     "output_type": "execute_result"
    }
   ],
   "source": [
    "import java.nio.file._\n",
    "import scala.collection.JavaConverters._\n",
    "val dirname = \"data/\"\n",
    "val entries = Files.walk(Paths.get(dirname))\n",
    "try {\n",
    "    entries.iterator().asScala.foreach(println)\n",
    "} finally {\n",
    "    entries.close()\n",
    "}"
   ]
  },
  {
   "cell_type": "markdown",
   "metadata": {},
   "source": [
    "## Serialization"
   ]
  },
  {
   "cell_type": "code",
   "execution_count": 25,
   "metadata": {},
   "outputs": [
    {
     "data": {
      "text/plain": [
       "import scala.collection.mutable.ArrayBuffer\r\n",
       "defined class Person\n"
      ]
     },
     "execution_count": 25,
     "metadata": {},
     "output_type": "execute_result"
    }
   ],
   "source": [
    "import scala.collection.mutable.ArrayBuffer\n",
    "\n",
    "class Person extends Serializable {\n",
    "    private val friends = new ArrayBuffer[Person]\n",
    "}"
   ]
  }
 ],
 "metadata": {
  "kernelspec": {
   "display_name": "Scala",
   "language": "scala",
   "name": "scala"
  },
  "language_info": {
   "codemirror_mode": "text/x-scala",
   "file_extension": ".scala",
   "mimetype": "",
   "name": "Scala",
   "nbconverter_exporter": "",
   "version": "2.11.12"
  }
 },
 "nbformat": 4,
 "nbformat_minor": 2
}
