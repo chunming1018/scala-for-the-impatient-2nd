{
 "cells": [
  {
   "cell_type": "markdown",
   "metadata": {},
   "source": [
    "## Highlight\n",
    "\n",
    "- All collections extend the ```Iterable``` trait. \n",
    "- The three major categories of collections are sequences, sets, and maps.\n",
    "- Scala has mutable and immutable versions of most collections.\n",
    "- A Scala list is either empty, or it has a head and a tail which is again a list.\n",
    "- Sets are unordered collections.\n",
    "- Use a ```LinkedHashSet``` to retain the insertion order or a ```SortedSet``` to iterate in sorted order.\n",
    "- + adds an element to an unordered collection; +: and :+ prepend or append to a sequence; ++ concatenates two collections; - and -- remove elements\n",
    "- The ```Iterable``` and ```Seq``` traits have dozens of useful methods for common operations. Check them out before writing tedious loops.\n",
    "- Mapping, folding, and zipping are useful techniques for applying a function or operation to the elements of a collection. "
   ]
  },
  {
   "cell_type": "code",
   "execution_count": null,
   "metadata": {},
   "outputs": [],
   "source": []
  }
 ],
 "metadata": {
  "kernelspec": {
   "display_name": "Scala",
   "language": "scala",
   "name": "scala"
  },
  "language_info": {
   "codemirror_mode": "text/x-scala",
   "file_extension": ".scala",
   "mimetype": "",
   "name": "Scala",
   "nbconverter_exporter": "",
   "version": "2.11.12"
  }
 },
 "nbformat": 4,
 "nbformat_minor": 2
}
