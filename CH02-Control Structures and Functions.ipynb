{
 "cells": [
  {
   "cell_type": "markdown",
   "metadata": {},
   "source": [
    "## Highlight\n",
    "\n",
    "- An ```if``` expression has a value\n",
    "- A block has a value -- the value of its last expression\n",
    "- The Scala ```for``` loop is like an \"enhanced\" Java ```for``` loop\n",
    "- Semicolons are (mostly) optional.\n",
    "- The ```void``` type is ```Unit```.\n",
    "- Avoid using ```return``` in a function.\n",
    "- Beware of missing = in a function definition.\n",
    "- Exceptions work just like in Java or C++, but you use a \"pattern matching\" syntax for ```catch```.\n",
    "- Scala has no checked exceptions. \n",
    "\n"
   ]
  },
  {
   "cell_type": "code",
   "execution_count": 1,
   "metadata": {},
   "outputs": [
    {
     "data": {
      "text/plain": [
       "1"
      ]
     },
     "execution_count": 1,
     "metadata": {},
     "output_type": "execute_result"
    }
   ],
   "source": [
    "val x = 10\n",
    "val s = if (x > 0) 1 else -1 "
   ]
  },
  {
   "cell_type": "markdown",
   "metadata": {},
   "source": [
    "- In Scala, assignment have no value -- or, strictly speaking, they have a value of tyupe ```Unit```."
   ]
  },
  {
   "cell_type": "markdown",
   "metadata": {},
   "source": [
    "## Print"
   ]
  },
  {
   "cell_type": "code",
   "execution_count": 2,
   "metadata": {},
   "outputs": [
    {
     "name": "stdout",
     "output_type": "stream",
     "text": [
      "Answer: 42\n"
     ]
    },
    {
     "data": {
      "text/plain": [
       "null"
      ]
     },
     "execution_count": 2,
     "metadata": {},
     "output_type": "execute_result"
    }
   ],
   "source": [
    "print(\"Answer: \")\n",
    "println(42)"
   ]
  },
  {
   "cell_type": "code",
   "execution_count": 5,
   "metadata": {},
   "outputs": [
    {
     "name": "stdout",
     "output_type": "stream",
     "text": [
      "Hello, Peng! You are 18 years old. \n",
      "Hello, Peng! In six months, you'll be 18.50 years old. \n"
     ]
    },
    {
     "data": {
      "text/plain": [
       "null"
      ]
     },
     "execution_count": 5,
     "metadata": {},
     "output_type": "execute_result"
    }
   ],
   "source": [
    "val name = \"Peng\"\n",
    "val age = 18\n",
    "printf(\"Hello, %s! You are %d years old. %n\", name, age)\n",
    "printf(f\"Hello, $name! In six months, you'll be ${age + 0.5}%4.2f years old. %n\")"
   ]
  },
  {
   "cell_type": "markdown",
   "metadata": {},
   "source": [
    "## Loop"
   ]
  },
  {
   "cell_type": "code",
   "execution_count": 9,
   "metadata": {},
   "outputs": [
    {
     "name": "stdout",
     "output_type": "stream",
     "text": [
      "3\n",
      "6\n",
      "6\n"
     ]
    },
    {
     "data": {
      "text/plain": [
       "null"
      ]
     },
     "execution_count": 9,
     "metadata": {},
     "output_type": "execute_result"
    }
   ],
   "source": [
    "var r = 1\n",
    "\n",
    "while (n > 0){\n",
    "    r = r * n;\n",
    "    println(r)\n",
    "    n -= 1\n",
    "}"
   ]
  },
  {
   "cell_type": "code",
   "execution_count": 13,
   "metadata": {},
   "outputs": [
    {
     "name": "stdout",
     "output_type": "stream",
     "text": [
      "6\n",
      "12\n",
      "36\n"
     ]
    },
    {
     "data": {
      "text/plain": [
       "null"
      ]
     },
     "execution_count": 13,
     "metadata": {},
     "output_type": "execute_result"
    }
   ],
   "source": [
    "var n = 3\n",
    "for (i <- 1 to n){\n",
    "    r = r * i;\n",
    "    println(r)\n",
    "}\n",
    "    "
   ]
  },
  {
   "cell_type": "code",
   "execution_count": 22,
   "metadata": {},
   "outputs": [
    {
     "name": "stdout",
     "output_type": "stream",
     "text": [
      " 11 12 13 21 22 23 31 32 33\n",
      "next line\n",
      " 12 13 21 23 31 32"
     ]
    },
    {
     "data": {
      "text/plain": [
       "null"
      ]
     },
     "execution_count": 22,
     "metadata": {},
     "output_type": "execute_result"
    }
   ],
   "source": [
    "for (i <- 1 to 3; j <- 1 to 3) \n",
    "    print(f\"${10 * i + j}%3d\")\n",
    "\n",
    "println(\"\")\n",
    "println(\"next line\")\n",
    "\n",
    "for (i <- 1 to 3; j <- 1 to 3 if i != j) \n",
    "    print(f\"${10 * i + j}%3d\")"
   ]
  },
  {
   "cell_type": "code",
   "execution_count": 15,
   "metadata": {},
   "outputs": [
    {
     "name": "stdout",
     "output_type": "stream",
     "text": [
      "500\n"
     ]
    },
    {
     "data": {
      "text/plain": [
       "null"
      ]
     },
     "execution_count": 15,
     "metadata": {},
     "output_type": "execute_result"
    }
   ],
   "source": [
    "val s = \"Hello\"\n",
    "var sum = 0\n",
    "for (i <- 0 to s.length - 1)\n",
    "    sum += s(i)\n",
    "    println(sum)"
   ]
  },
  {
   "cell_type": "code",
   "execution_count": 24,
   "metadata": {},
   "outputs": [
    {
     "data": {
      "text/plain": [
       "[[1, 2, 0, 1, 2, 0, 1, 2, 0, 1]]"
      ]
     },
     "execution_count": 24,
     "metadata": {},
     "output_type": "execute_result"
    }
   ],
   "source": [
    "val a = for (i <- 1 to 10) yield i % 3"
   ]
  },
  {
   "cell_type": "markdown",
   "metadata": {},
   "source": [
    "## Functions"
   ]
  },
  {
   "cell_type": "code",
   "execution_count": 28,
   "metadata": {},
   "outputs": [
    {
     "data": {
      "text/plain": [
       "fac: (n: Int)Int\n"
      ]
     },
     "execution_count": 28,
     "metadata": {},
     "output_type": "execute_result"
    }
   ],
   "source": [
    "def fac(n: Int) = {\n",
    "    var r = 1\n",
    "    for (i <- 1 to n) r = r * i\n",
    "    r\n",
    "}"
   ]
  },
  {
   "cell_type": "markdown",
   "metadata": {},
   "source": [
    "- __TIP:__ While there is nothing wrong with using ```return``` in a named function (except the waste of seven keystrokes), it is a good idea to get used to life without ```return```. Pretty soon, you will be using lots of _anonymous functions_ and there, ```return``` doesn't return a value to the caller but breaks out to the enclosing named function. Think of ```return``` as a kind of ```break``` statement for functions, and only use it when you want that breakout functionality. "
   ]
  },
  {
   "cell_type": "markdown",
   "metadata": {},
   "source": [
    "- __TIP:__ With a recursive function, you must specify the return type. "
   ]
  },
  {
   "cell_type": "code",
   "execution_count": 31,
   "metadata": {},
   "outputs": [
    {
     "data": {
      "text/plain": [
       "fac: (n: Int)Int\n"
      ]
     },
     "execution_count": 31,
     "metadata": {},
     "output_type": "execute_result"
    }
   ],
   "source": [
    "def fac(n: Int): Int = if (n <= 0) 1 else n * fac(n - 1)"
   ]
  },
  {
   "cell_type": "markdown",
   "metadata": {},
   "source": [
    "<h4>Default and Named Argumentsds</h4>"
   ]
  },
  {
   "cell_type": "code",
   "execution_count": 33,
   "metadata": {},
   "outputs": [
    {
     "data": {
      "text/plain": [
       "decorate: (str: String, left: String, right: String)String\n"
      ]
     },
     "execution_count": 33,
     "metadata": {},
     "output_type": "execute_result"
    }
   ],
   "source": [
    "def decorate(str: String, left: String = \"[\", right:String = \"]\") = \n",
    "    left + str + right"
   ]
  },
  {
   "cell_type": "code",
   "execution_count": 35,
   "metadata": {},
   "outputs": [
    {
     "data": {
      "text/plain": [
       ">>>Hello<<<"
      ]
     },
     "execution_count": 35,
     "metadata": {},
     "output_type": "execute_result"
    }
   ],
   "source": [
    "decorate(\"Hello\")\n",
    "decorate(\"Hello\", \">>>\", \"<<<\")"
   ]
  },
  {
   "cell_type": "markdown",
   "metadata": {},
   "source": [
    "#### Recursive Definition"
   ]
  },
  {
   "cell_type": "code",
   "execution_count": 36,
   "metadata": {},
   "outputs": [
    {
     "data": {
      "text/plain": [
       "recursiveSum: (args: Int*)Int\n"
      ]
     },
     "execution_count": 36,
     "metadata": {},
     "output_type": "execute_result"
    }
   ],
   "source": [
    "def recursiveSum(args: Int*) : Int = {\n",
    "    if (args.length == 0)0\n",
    "    else args.head + recursiveSum(args.tail : _*)\n",
    "}"
   ]
  },
  {
   "cell_type": "code",
   "execution_count": 37,
   "metadata": {},
   "outputs": [
    {
     "data": {
      "text/plain": [
       "55"
      ]
     },
     "execution_count": 37,
     "metadata": {},
     "output_type": "execute_result"
    }
   ],
   "source": [
    "recursiveSum(1 to 10: _*)"
   ]
  },
  {
   "cell_type": "markdown",
   "metadata": {},
   "source": [
    "#### Procedure\n",
    "- Procedure is a special notation for a function that returns no value. \n",
    "- If the function body is enclosed in braces _without a preceding = symbol_, then the return type is ```Unit```."
   ]
  },
  {
   "cell_type": "code",
   "execution_count": 40,
   "metadata": {},
   "outputs": [
    {
     "data": {
      "text/plain": [
       "box: (s: String)Unit\n"
      ]
     },
     "execution_count": 40,
     "metadata": {},
     "output_type": "execute_result"
    }
   ],
   "source": [
    "def box (s: String):Unit = {\n",
    "    val border = \"-\" * (s.length + 2)\n",
    "    printf(f\"$border%n|$s|%n$border%n\")\n",
    "}"
   ]
  },
  {
   "cell_type": "code",
   "execution_count": 41,
   "metadata": {},
   "outputs": [
    {
     "name": "stdout",
     "output_type": "stream",
     "text": [
      "-------\n",
      "|Hello|\n",
      "-------\n"
     ]
    },
    {
     "data": {
      "text/plain": [
       "null"
      ]
     },
     "execution_count": 41,
     "metadata": {},
     "output_type": "execute_result"
    }
   ],
   "source": [
    "box(\"Hello\")"
   ]
  },
  {
   "cell_type": "code",
   "execution_count": 42,
   "metadata": {},
   "outputs": [
    {
     "data": {
      "text/plain": [
       "box: (s: String)Unit\n"
      ]
     },
     "execution_count": 42,
     "metadata": {},
     "output_type": "execute_result"
    }
   ],
   "source": [
    "def box (s: String) {\n",
    "    val border = \"-\" * (s.length + 2)\n",
    "    printf(f\"$border%n|$s|%n$border%n\")\n",
    "}"
   ]
  },
  {
   "cell_type": "code",
   "execution_count": 43,
   "metadata": {},
   "outputs": [
    {
     "name": "stdout",
     "output_type": "stream",
     "text": [
      "-------\n",
      "|Hello|\n",
      "-------\n"
     ]
    },
    {
     "data": {
      "text/plain": [
       "null"
      ]
     },
     "execution_count": 43,
     "metadata": {},
     "output_type": "execute_result"
    }
   ],
   "source": [
    "box(\"Hello\")"
   ]
  },
  {
   "cell_type": "markdown",
   "metadata": {},
   "source": [
    "## Lazy Values\n",
    "- When a ```val``` is declared as lazy, its initialization is deferred until it is accessed for the first time."
   ]
  },
  {
   "cell_type": "markdown",
   "metadata": {},
   "source": [
    "## Exception"
   ]
  },
  {
   "cell_type": "code",
   "execution_count": 45,
   "metadata": {},
   "outputs": [
    {
     "ename": "java.lang.IllegalArgumentException",
     "evalue": " x should not be negative",
     "output_type": "error",
     "text": "java.lang.IllegalArgumentException: x should not be negative\r\n  ... 46 elided\n",
     "traceback": [
      "\u001b[1;31mjava.lang.IllegalArgumentException: x should not be negative\u001b[0;0m",
      "\u001b[1;31m  ... 46 elided\u001b[0;0m"
     ]
    }
   ],
   "source": [
    "val x = -1\n",
    "if (x > 0) {\n",
    "    print(x)\n",
    "} else throw new IllegalArgumentException (\"x should not be negative\") "
   ]
  },
  {
   "cell_type": "markdown",
   "metadata": {},
   "source": [
    "```\n",
    "try {\n",
    "\n",
    "}\n",
    "catch {\n",
    "\n",
    "}\n",
    "finally {\n",
    "\n",
    "}\n",
    "\n",
    "```"
   ]
  }
 ],
 "metadata": {
  "kernelspec": {
   "display_name": "Scala",
   "language": "scala",
   "name": "scala"
  },
  "language_info": {
   "codemirror_mode": "text/x-scala",
   "file_extension": ".scala",
   "mimetype": "",
   "name": "Scala",
   "nbconverter_exporter": "",
   "version": "2.11.12"
  }
 },
 "nbformat": 4,
 "nbformat_minor": 2
}
